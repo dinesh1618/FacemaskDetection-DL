{
  "nbformat": 4,
  "nbformat_minor": 0,
  "metadata": {
    "colab": {
      "name": "faceDetection.ipynb",
      "provenance": [],
      "collapsed_sections": []
    },
    "kernelspec": {
      "name": "python3",
      "display_name": "Python 3"
    },
    "language_info": {
      "name": "python"
    },
    "accelerator": "GPU"
  },
  "cells": [
    {
      "cell_type": "code",
      "source": [
        "from google.colab import drive\n",
        "drive.mount(\"/content/gdrive/\")"
      ],
      "metadata": {
        "colab": {
          "base_uri": "https://localhost:8080/"
        },
        "id": "3vyBJIoZVLCG",
        "outputId": "dd631ce9-a368-4cba-b439-64b36408d5a8"
      },
      "execution_count": 52,
      "outputs": [
        {
          "output_type": "stream",
          "name": "stdout",
          "text": [
            "Drive already mounted at /content/gdrive/; to attempt to forcibly remount, call drive.mount(\"/content/gdrive/\", force_remount=True).\n"
          ]
        }
      ]
    },
    {
      "cell_type": "code",
      "source": [
        "from tensorflow.keras.preprocessing.image import ImageDataGenerator, load_img, img_to_array\n",
        "from tensorflow.keras.layers import Dense, Dropout, Flatten, Input, MaxPooling2D, AveragePooling2D\n",
        "from tensorflow.keras.models import Model\n",
        "from tensorflow.keras.applications import MobileNetV2\n",
        "from tensorflow.keras.utils import to_categorical\n",
        "from tensorflow.keras.optimizers import Adam\n",
        "from tensorflow.keras.applications.mobilenet_v2 import preprocess_input\n",
        "from sklearn.preprocessing import LabelEncoder\n",
        "from sklearn.model_selection import train_test_split\n",
        "import numpy as np"
      ],
      "metadata": {
        "id": "9dy1RZE-MxAW"
      },
      "execution_count": 1,
      "outputs": []
    },
    {
      "cell_type": "code",
      "source": [
        "from tensorflow.keras.preprocessing.image import ImageDataGenerator, img_to_array, load_img\n",
        "from tensorflow.keras.utils import to_categorical\n",
        "from tensorflow.keras.applications import mobilenet_v2\n",
        "from tensorflow.keras.applications.mobilenet_v2 import preprocess_input\n",
        "from tensorflow.keras.layers import Dense, Flatten, Dropout, Input, MaxPooling2D, AveragePooling2D\n",
        "from tensorflow.keras.models import Model\n",
        "from tensorflow.keras.optimizers import Adam\n",
        "from sklearn.preprocessing import LabelEncoder\n",
        "from tensorflow.keras.losses import binary_crossentropy"
      ],
      "metadata": {
        "id": "3X49kQPC-x7A"
      },
      "execution_count": 35,
      "outputs": []
    },
    {
      "cell_type": "code",
      "source": [
        "# import zipfile\n",
        "# zip_ref = zipfile.ZipFile(\"/content/Face-Mask-Detection-master.zip\", 'r')\n",
        "# zip_ref.extractall(\"/tmp\")\n",
        "# zip_ref.close()"
      ],
      "metadata": {
        "id": "yg7xuzYKVLEc"
      },
      "execution_count": 15,
      "outputs": []
    },
    {
      "cell_type": "code",
      "source": [
        "import os, cv2"
      ],
      "metadata": {
        "id": "hn1vCHRrcZNl"
      },
      "execution_count": 5,
      "outputs": []
    },
    {
      "cell_type": "code",
      "source": [
        "data = []\n",
        "labels = []\n",
        "for paths, dir, files in os.walk(\"/content/gdrive/MyDrive/FaceMaskDataset\"):\n",
        "  print(paths)\n",
        "  for file in files:\n",
        "    img = os.path.join(paths, file)\n",
        "    img = load_img(img, target_size=(224, 224))\n",
        "    img = img_to_array(img)\n",
        "    img = preprocess_input(img)\n",
        "    data.append(img)\n",
        "    labels.append(paths.split(\"/\")[-1])"
      ],
      "metadata": {
        "colab": {
          "base_uri": "https://localhost:8080/"
        },
        "id": "-yHcQHchVLHB",
        "outputId": "5ec8fe0a-67e5-4864-c093-91c6667aca16"
      },
      "execution_count": 16,
      "outputs": [
        {
          "output_type": "stream",
          "name": "stdout",
          "text": [
            "/content/gdrive/MyDrive/FaceMaskDataset\n",
            "/content/gdrive/MyDrive/FaceMaskDataset/with_mask\n"
          ]
        },
        {
          "output_type": "stream",
          "name": "stderr",
          "text": [
            "/usr/local/lib/python3.7/dist-packages/PIL/Image.py:960: UserWarning: Palette images with Transparency expressed in bytes should be converted to RGBA images\n",
            "  \"Palette images with Transparency expressed in bytes should be \"\n"
          ]
        },
        {
          "output_type": "stream",
          "name": "stdout",
          "text": [
            "/content/gdrive/MyDrive/FaceMaskDataset/without_mask\n"
          ]
        }
      ]
    },
    {
      "cell_type": "code",
      "source": [
        "lb = LabelEncoder()\n",
        "labels = lb.fit_transform(labels)"
      ],
      "metadata": {
        "id": "gf8mnIgLVLJn"
      },
      "execution_count": 17,
      "outputs": []
    },
    {
      "cell_type": "code",
      "source": [
        "labels"
      ],
      "metadata": {
        "colab": {
          "base_uri": "https://localhost:8080/"
        },
        "id": "nUYjcMBsAC2z",
        "outputId": "f0583c3a-d754-4a07-810b-2b525a738d5b"
      },
      "execution_count": 18,
      "outputs": [
        {
          "output_type": "execute_result",
          "data": {
            "text/plain": [
              "array([0, 0, 0, ..., 1, 1, 1])"
            ]
          },
          "metadata": {},
          "execution_count": 18
        }
      ]
    },
    {
      "cell_type": "code",
      "source": [
        "labels = to_categorical(labels)"
      ],
      "metadata": {
        "id": "c1bAfkGvVLMQ"
      },
      "execution_count": 19,
      "outputs": []
    },
    {
      "cell_type": "code",
      "source": [
        "data = np.array(data)\n",
        "labels = np.array(labels)"
      ],
      "metadata": {
        "id": "6kaIm0NihMdr"
      },
      "execution_count": 20,
      "outputs": []
    },
    {
      "cell_type": "code",
      "source": [
        "X_train, X_test, y_train, y_test = train_test_split(data, labels, test_size=0.20, stratify=labels, random_state=42)"
      ],
      "metadata": {
        "id": "UJRU8XBMafVr"
      },
      "execution_count": 21,
      "outputs": []
    },
    {
      "cell_type": "code",
      "source": [
        "aug = ImageDataGenerator(rotation_range=20, zoom_range=0.15, width_shift_range=0.2, height_shift_range=0.2, shear_range=0.15, \n",
        "                   horizontal_flip=True, fill_mode=\"nearest\")"
      ],
      "metadata": {
        "id": "oa7pehiHafYT"
      },
      "execution_count": 22,
      "outputs": []
    },
    {
      "cell_type": "code",
      "source": [
        "basemodel = MobileNetV2(weights=\"imagenet\", include_top=False, input_tensor=Input(shape=(224, 224, 3)))"
      ],
      "metadata": {
        "colab": {
          "base_uri": "https://localhost:8080/"
        },
        "id": "5HqZQCRJafbx",
        "outputId": "78509264-1fb5-4327-fe4f-8b49582d2b88"
      },
      "execution_count": 23,
      "outputs": [
        {
          "output_type": "stream",
          "name": "stdout",
          "text": [
            "WARNING:tensorflow:`input_shape` is undefined or non-square, or `rows` is not in [96, 128, 160, 192, 224]. Weights for input shape (224, 224) will be loaded as the default.\n",
            "Downloading data from https://storage.googleapis.com/tensorflow/keras-applications/mobilenet_v2/mobilenet_v2_weights_tf_dim_ordering_tf_kernels_1.0_224_no_top.h5\n",
            "9412608/9406464 [==============================] - 0s 0us/step\n",
            "9420800/9406464 [==============================] - 0s 0us/step\n"
          ]
        }
      ]
    },
    {
      "cell_type": "code",
      "source": [
        "headmodel = basemodel.output\n",
        "headmodel = AveragePooling2D(pool_size=(7, 7))(headmodel)\n",
        "headmodel = Flatten(name=\"Flatten\")(headmodel)\n",
        "headmodel = Dense(128, activation=\"relu\")(headmodel)\n",
        "headmodel = Dropout(0.5)(headmodel)\n",
        "headmodel = Dense(2, activation=\"softmax\")(headmodel)"
      ],
      "metadata": {
        "id": "PDyEKnHLafdF"
      },
      "execution_count": 24,
      "outputs": []
    },
    {
      "cell_type": "code",
      "source": [
        "model = Model(inputs = basemodel.input, outputs = headmodel)"
      ],
      "metadata": {
        "id": "vFZEa0e-affq"
      },
      "execution_count": 25,
      "outputs": []
    },
    {
      "cell_type": "code",
      "source": [
        "# basemodel.layers[0].trainable = False"
      ],
      "metadata": {
        "id": "08ezg_E7afiH"
      },
      "execution_count": 30,
      "outputs": []
    },
    {
      "cell_type": "code",
      "source": [
        "for layer in basemodel.layers:\n",
        "  layer.trainable = False"
      ],
      "metadata": {
        "id": "l5eRLGE9afko"
      },
      "execution_count": 31,
      "outputs": []
    },
    {
      "cell_type": "code",
      "source": [
        "model.compile(loss=binary_crossentropy, optimizer=Adam(lr = 0.0001, decay = 0.0001/20), metrics=[\"accuracy\"])"
      ],
      "metadata": {
        "colab": {
          "base_uri": "https://localhost:8080/"
        },
        "id": "k2PVjZuYafnH",
        "outputId": "d6c2a680-446b-4a45-f885-fc20a80bc5b5"
      },
      "execution_count": 40,
      "outputs": [
        {
          "output_type": "stream",
          "name": "stderr",
          "text": [
            "/usr/local/lib/python3.7/dist-packages/keras/optimizer_v2/adam.py:105: UserWarning: The `lr` argument is deprecated, use `learning_rate` instead.\n",
            "  super(Adam, self).__init__(name, **kwargs)\n"
          ]
        }
      ]
    },
    {
      "cell_type": "code",
      "source": [
        "new = model.fit(aug.flow(X_train, y_train, batch_size=32), steps_per_epoch=len(X_train)//32, validation_data=(X_test, y_test), validation_steps=len(X_test)//32,\n",
        "          epochs=20)"
      ],
      "metadata": {
        "colab": {
          "base_uri": "https://localhost:8080/"
        },
        "id": "7igITYAJJ8dB",
        "outputId": "518c7bd7-73c8-4f20-cbff-0a04107c7cc2"
      },
      "execution_count": 43,
      "outputs": [
        {
          "output_type": "stream",
          "name": "stdout",
          "text": [
            "Epoch 1/20\n",
            "95/95 [==============================] - 51s 535ms/step - loss: 0.2547 - accuracy: 0.9450 - val_loss: 0.1164 - val_accuracy: 0.9791\n",
            "Epoch 2/20\n",
            "95/95 [==============================] - 39s 410ms/step - loss: 0.1317 - accuracy: 0.9651 - val_loss: 0.0705 - val_accuracy: 0.9844\n",
            "Epoch 3/20\n",
            "95/95 [==============================] - 38s 404ms/step - loss: 0.0917 - accuracy: 0.9776 - val_loss: 0.0546 - val_accuracy: 0.9844\n",
            "Epoch 4/20\n",
            "95/95 [==============================] - 38s 399ms/step - loss: 0.0733 - accuracy: 0.9806 - val_loss: 0.0521 - val_accuracy: 0.9804\n",
            "Epoch 5/20\n",
            "95/95 [==============================] - 40s 417ms/step - loss: 0.0640 - accuracy: 0.9835 - val_loss: 0.0421 - val_accuracy: 0.9844\n",
            "Epoch 6/20\n",
            "95/95 [==============================] - 39s 411ms/step - loss: 0.0601 - accuracy: 0.9825 - val_loss: 0.0440 - val_accuracy: 0.9817\n",
            "Epoch 7/20\n",
            "95/95 [==============================] - 39s 411ms/step - loss: 0.0545 - accuracy: 0.9822 - val_loss: 0.0405 - val_accuracy: 0.9817\n",
            "Epoch 8/20\n",
            "95/95 [==============================] - 40s 420ms/step - loss: 0.0472 - accuracy: 0.9878 - val_loss: 0.0363 - val_accuracy: 0.9844\n",
            "Epoch 9/20\n",
            "95/95 [==============================] - 40s 420ms/step - loss: 0.0465 - accuracy: 0.9835 - val_loss: 0.0360 - val_accuracy: 0.9831\n",
            "Epoch 10/20\n",
            "95/95 [==============================] - 40s 419ms/step - loss: 0.0429 - accuracy: 0.9868 - val_loss: 0.0352 - val_accuracy: 0.9844\n",
            "Epoch 11/20\n",
            "95/95 [==============================] - 39s 414ms/step - loss: 0.0399 - accuracy: 0.9888 - val_loss: 0.0365 - val_accuracy: 0.9857\n",
            "Epoch 12/20\n",
            "95/95 [==============================] - 39s 412ms/step - loss: 0.0304 - accuracy: 0.9911 - val_loss: 0.0324 - val_accuracy: 0.9870\n",
            "Epoch 13/20\n",
            "95/95 [==============================] - 39s 411ms/step - loss: 0.0357 - accuracy: 0.9891 - val_loss: 0.0311 - val_accuracy: 0.9870\n",
            "Epoch 14/20\n",
            "95/95 [==============================] - 40s 419ms/step - loss: 0.0352 - accuracy: 0.9888 - val_loss: 0.0301 - val_accuracy: 0.9870\n",
            "Epoch 15/20\n",
            "95/95 [==============================] - 40s 424ms/step - loss: 0.0332 - accuracy: 0.9901 - val_loss: 0.0281 - val_accuracy: 0.9896\n",
            "Epoch 16/20\n",
            "95/95 [==============================] - 41s 428ms/step - loss: 0.0360 - accuracy: 0.9891 - val_loss: 0.0282 - val_accuracy: 0.9896\n",
            "Epoch 17/20\n",
            "95/95 [==============================] - 40s 419ms/step - loss: 0.0270 - accuracy: 0.9924 - val_loss: 0.0295 - val_accuracy: 0.9857\n",
            "Epoch 18/20\n",
            "95/95 [==============================] - 40s 419ms/step - loss: 0.0257 - accuracy: 0.9918 - val_loss: 0.0266 - val_accuracy: 0.9909\n",
            "Epoch 19/20\n",
            "95/95 [==============================] - 40s 416ms/step - loss: 0.0292 - accuracy: 0.9904 - val_loss: 0.0329 - val_accuracy: 0.9870\n",
            "Epoch 20/20\n",
            "95/95 [==============================] - 40s 424ms/step - loss: 0.0308 - accuracy: 0.9901 - val_loss: 0.0268 - val_accuracy: 0.9909\n"
          ]
        }
      ]
    },
    {
      "cell_type": "code",
      "source": [
        "pred = model.predict(X_test, batch_size=32)"
      ],
      "metadata": {
        "id": "Ogtub4n1SHfr"
      },
      "execution_count": 45,
      "outputs": []
    },
    {
      "cell_type": "code",
      "source": [
        "np.argmax(pred, axis=1)"
      ],
      "metadata": {
        "colab": {
          "base_uri": "https://localhost:8080/"
        },
        "id": "I5fEbeumSHiE",
        "outputId": "2d7d4ee3-31d1-4c52-8162-98ec17286af9"
      },
      "execution_count": 46,
      "outputs": [
        {
          "output_type": "execute_result",
          "data": {
            "text/plain": [
              "array([0, 0, 0, 1, 1, 0, 1, 0, 1, 0, 1, 1, 1, 0, 0, 0, 0, 1, 1, 0, 1, 0,\n",
              "       0, 1, 1, 1, 1, 0, 0, 1, 0, 0, 0, 1, 1, 0, 0, 0, 0, 0, 1, 1, 0, 0,\n",
              "       0, 0, 1, 0, 0, 0, 0, 1, 0, 1, 1, 1, 1, 0, 1, 0, 0, 1, 0, 0, 0, 1,\n",
              "       0, 1, 1, 1, 1, 0, 1, 1, 0, 1, 1, 1, 0, 0, 1, 1, 0, 0, 1, 0, 1, 1,\n",
              "       1, 1, 0, 0, 1, 0, 1, 1, 1, 1, 1, 1, 0, 1, 0, 1, 1, 1, 0, 1, 0, 0,\n",
              "       0, 0, 0, 1, 0, 1, 0, 0, 0, 1, 1, 1, 0, 1, 1, 0, 0, 1, 0, 1, 1, 0,\n",
              "       0, 1, 0, 0, 1, 0, 1, 1, 0, 0, 1, 1, 0, 0, 1, 1, 1, 1, 0, 1, 0, 1,\n",
              "       1, 0, 0, 1, 0, 0, 1, 0, 0, 0, 1, 1, 1, 0, 0, 0, 1, 0, 0, 0, 1, 0,\n",
              "       1, 1, 1, 0, 1, 1, 0, 0, 0, 0, 0, 1, 1, 1, 1, 1, 0, 1, 1, 1, 0, 0,\n",
              "       1, 1, 1, 1, 1, 1, 1, 0, 1, 1, 1, 0, 0, 0, 0, 0, 0, 1, 1, 0, 0, 1,\n",
              "       1, 1, 0, 0, 0, 1, 1, 0, 1, 0, 0, 0, 1, 0, 1, 0, 1, 0, 1, 1, 0, 1,\n",
              "       1, 0, 1, 0, 1, 1, 0, 0, 0, 1, 0, 0, 1, 0, 1, 0, 0, 0, 0, 1, 0, 1,\n",
              "       0, 0, 0, 0, 0, 0, 1, 1, 0, 0, 1, 0, 0, 0, 1, 1, 1, 0, 1, 1, 1, 1,\n",
              "       1, 0, 0, 0, 0, 1, 0, 1, 1, 0, 0, 1, 0, 0, 0, 1, 0, 1, 0, 0, 1, 0,\n",
              "       0, 0, 0, 1, 0, 1, 0, 0, 1, 1, 1, 0, 0, 0, 1, 0, 1, 1, 0, 0, 1, 0,\n",
              "       0, 0, 1, 0, 0, 0, 0, 0, 0, 1, 0, 0, 1, 0, 0, 1, 1, 1, 1, 1, 0, 1,\n",
              "       1, 0, 0, 1, 1, 0, 1, 0, 1, 1, 1, 0, 0, 1, 0, 1, 1, 1, 0, 1, 1, 1,\n",
              "       0, 1, 0, 0, 0, 0, 0, 0, 1, 0, 1, 0, 1, 0, 1, 1, 0, 1, 1, 1, 0, 1,\n",
              "       1, 0, 1, 1, 0, 0, 0, 0, 1, 0, 0, 1, 1, 1, 0, 1, 0, 0, 0, 0, 1, 0,\n",
              "       1, 0, 1, 0, 0, 1, 0, 0, 0, 0, 1, 0, 1, 1, 0, 0, 1, 0, 0, 1, 1, 1,\n",
              "       1, 0, 1, 1, 1, 1, 1, 1, 0, 0, 0, 0, 1, 1, 0, 0, 0, 1, 0, 0, 1, 0,\n",
              "       1, 0, 0, 0, 0, 1, 0, 1, 1, 1, 0, 0, 1, 1, 0, 1, 0, 0, 1, 0, 1, 0,\n",
              "       1, 0, 1, 1, 1, 0, 0, 1, 1, 1, 1, 0, 1, 1, 1, 0, 0, 1, 0, 1, 1, 1,\n",
              "       0, 1, 1, 0, 0, 0, 0, 1, 1, 1, 1, 1, 0, 1, 0, 1, 1, 0, 1, 1, 0, 0,\n",
              "       1, 0, 1, 0, 1, 0, 1, 1, 0, 0, 1, 0, 1, 1, 1, 1, 0, 0, 0, 0, 0, 0,\n",
              "       1, 1, 0, 1, 1, 1, 0, 1, 0, 0, 1, 1, 1, 1, 1, 0, 1, 1, 0, 0, 1, 0,\n",
              "       0, 0, 0, 1, 1, 1, 1, 1, 1, 1, 0, 1, 1, 1, 1, 1, 1, 1, 0, 0, 0, 1,\n",
              "       0, 1, 0, 0, 0, 1, 1, 0, 1, 1, 1, 0, 0, 0, 0, 1, 1, 0, 0, 1, 0, 0,\n",
              "       1, 0, 1, 1, 1, 0, 0, 1, 1, 1, 1, 1, 1, 1, 0, 0, 1, 0, 0, 0, 0, 1,\n",
              "       0, 1, 0, 0, 1, 0, 0, 1, 1, 1, 1, 0, 1, 1, 0, 0, 1, 0, 0, 1, 1, 1,\n",
              "       0, 0, 1, 0, 0, 0, 1, 0, 0, 0, 0, 1, 0, 0, 1, 1, 1, 0, 0, 1, 1, 1,\n",
              "       1, 1, 1, 0, 0, 0, 0, 0, 1, 0, 0, 1, 1, 0, 1, 0, 0, 1, 0, 0, 0, 0,\n",
              "       1, 1, 0, 1, 0, 1, 0, 1, 1, 1, 0, 0, 0, 1, 0, 0, 1, 0, 1, 0, 0, 1,\n",
              "       0, 0, 1, 1, 1, 0, 0, 1, 1, 1, 0, 1, 1, 1, 0, 1, 1, 1, 1, 1, 1, 0,\n",
              "       0, 0, 1, 1, 0, 0, 1, 1, 1, 0, 0, 1, 0, 1, 1, 1, 1, 1, 1])"
            ]
          },
          "metadata": {},
          "execution_count": 46
        }
      ]
    },
    {
      "cell_type": "code",
      "source": [
        "y_test"
      ],
      "metadata": {
        "colab": {
          "base_uri": "https://localhost:8080/"
        },
        "id": "szjA-zreSHmj",
        "outputId": "4212193c-860f-49d4-dde1-cf4118aa6c4a"
      },
      "execution_count": 47,
      "outputs": [
        {
          "output_type": "execute_result",
          "data": {
            "text/plain": [
              "array([[1., 0.],\n",
              "       [1., 0.],\n",
              "       [1., 0.],\n",
              "       ...,\n",
              "       [0., 1.],\n",
              "       [0., 1.],\n",
              "       [0., 1.]], dtype=float32)"
            ]
          },
          "metadata": {},
          "execution_count": 47
        }
      ]
    },
    {
      "cell_type": "code",
      "source": [
        "model.save(\"Mask_detector.model\", save_format=\"h5\")"
      ],
      "metadata": {
        "colab": {
          "base_uri": "https://localhost:8080/"
        },
        "id": "5BC_t3x5Wfx0",
        "outputId": "7b4d97b1-9f95-4c8a-b95e-6c8ee92cab19"
      },
      "execution_count": 58,
      "outputs": [
        {
          "output_type": "stream",
          "name": "stderr",
          "text": [
            "/usr/local/lib/python3.7/dist-packages/keras/engine/functional.py:1410: CustomMaskWarning: Custom mask layers require a config and must override get_config. When loading, the custom mask layer must be passed to the custom_objects argument.\n",
            "  layer_config = serialize_layer_fn(layer)\n"
          ]
        }
      ]
    },
    {
      "cell_type": "code",
      "source": [
        ""
      ],
      "metadata": {
        "id": "42LSYiyPWsPN"
      },
      "execution_count": 49,
      "outputs": []
    },
    {
      "cell_type": "code",
      "source": [
        "os.getcwd()"
      ],
      "metadata": {
        "colab": {
          "base_uri": "https://localhost:8080/",
          "height": 35
        },
        "id": "9G8Pi2cfWywA",
        "outputId": "0fcb5fb4-9b5f-4a74-965b-58fda0bbc183"
      },
      "execution_count": 60,
      "outputs": [
        {
          "output_type": "execute_result",
          "data": {
            "application/vnd.google.colaboratory.intrinsic+json": {
              "type": "string"
            },
            "text/plain": [
              "'/content'"
            ]
          },
          "metadata": {},
          "execution_count": 60
        }
      ]
    },
    {
      "cell_type": "code",
      "source": [
        ""
      ],
      "metadata": {
        "id": "ivbmWEDbcabN"
      },
      "execution_count": null,
      "outputs": []
    }
  ]
}